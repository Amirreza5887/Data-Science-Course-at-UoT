{
 "cells": [
  {
   "cell_type": "markdown",
   "id": "2ecfbb4b0c704e67",
   "metadata": {
    "collapsed": false
   },
   "source": [
    "# Web Scraping and Introductory Data Analysis\n",
    "\n",
    "Welcome to Homework 0, where we will delve into web scraping and perform an introductory data analysis. This homework will be a hands-on exercise that will help you become familiar with the process of extracting data from websites and conducting basic statistical analysis. \n",
    "\n",
    "## Objectives\n",
    "\n",
    "By the end of this homework, you will be able to:\n",
    "\n",
    "1. Set up a Python environment with the necessary libraries for web scraping and data analysis.\n",
    "2. Write a web scraping script using Beautiful Soup and Selenium to collect data from a website.\n",
    "3. Sample from the collected dataset and compare the statistics of the sample and the population.\n",
    "   \n",
    "## Tasks\n",
    "\n",
    "1. **Environment Setup**: Install the required libraries such as Beautiful Soup, Selenium, pandas, numpy, matplotlib, and seaborn.\n",
    "\n",
    "2. **Web Scraping**: Write a script to scrape transaction data from [Etherscan.io](https://etherscan.io/txs). Use Selenium to interact with the website and Beautiful Soup to parse the HTML content.\n",
    "\n",
    "3. **Data Sampling**: Once the data is collected, create a sample from the dataset. Compare the sample statistics (mean and standard deviation) with the population statistics.\n",
    "\n",
    "\n",
    "## Deliverables\n",
    "\n",
    "1. A Jupyter notebook with all the code and explanations.\n",
    "2. A detailed report on the findings, including the comparison of sample and population statistics.\n",
    "Note: You can include the report in your notebook.\n",
    "\n",
    "## Getting Started\n",
    "\n",
    "Begin by setting up your Python environment and installing the necessary libraries. Then, proceed with the web scraping task, ensuring that you handle any potential issues such as rate limiting. Once you have the data, move on to the data sampling and statistical analysis tasks. \n",
    "\n",
    "Remember to document your process and findings in the Jupyter notebook, and to include visualizations where appropriate to illustrate your results. <br>\n",
    "Good luck, and happy scraping!"
   ]
  },
  {
   "cell_type": "markdown",
   "id": "1ca352a49724d191",
   "metadata": {
    "collapsed": false
   },
   "source": [
    "## Data Collection (Etherscan)\n",
    "\n",
    "In this section, we will use web scraping to gather transaction data from the Ethereum blockchain using the Etherscan block explorer. Our objective is to collect transactions from the **last 10 blocks** on Ethereum.\n",
    "\n",
    "To accomplish this task, we will employ web scraping techniques to extract the transaction data from the Etherscan website. The URL we will be targeting for our data collection is:\n",
    "\n",
    "[https://etherscan.io/txs](https://etherscan.io/txs)\n",
    "\n",
    "### Steps\n",
    "\n",
    "1. **Navigate to the URL**: Use Selenium to open the Etherscan transactions page in a browser.\n",
    "\n",
    "2. **Locate the Transaction Data**: Identify the HTML elements that contain the transaction data for the specified block range.\n",
    "\n",
    "3. **Extract the Data**: Write a script to extract the transaction details e.g. Hash, Method, Block, etc.\n",
    "\n",
    "4. **Handle Pagination**: If the transactions span multiple pages, implement pagination handling to navigate through the pages and collect all relevant transaction data.\n",
    "\n",
    "5. **Store the Data**: Save the extracted transaction data into a structured format, such as a CSV file or a pandas DataFrame, for further analysis.\n",
    "\n",
    "### Considerations\n",
    "\n",
    "- **Rate Limiting**: Be mindful of the website's rate limits to avoid being blocked. Implement delays between requests if necessary.\n",
    "- **Dynamic Content**: The Etherscan website may load content dynamically. Ensure that Selenium waits for the necessary elements to load before attempting to scrape the data.\n",
    "- **Data Cleaning**: After extraction, clean the data to remove any inconsistencies or errors that may have occurred during the scraping process.\n",
    "\n",
    "### Resources\n",
    "\n",
    "- [Beautiful Soup Documentation](https://www.crummy.com/software/BeautifulSoup/bs4/doc/)\n",
    "- [Selenium Documentation](https://selenium-python.readthedocs.io/)\n",
    "- [Pandas Documentation](https://pandas.pydata.org/docs/)\n",
    "- [Ethereum](https://ethereum.org/en/)"
   ]
  },
  {
   "cell_type": "code",
   "execution_count": 1,
   "id": "54fa10db-ec9e-4921-870a-50066926ed2d",
   "metadata": {},
   "outputs": [],
   "source": [
    "from selenium import webdriver\n",
    "from selenium.webdriver.common.by import By\n",
    "import pandas as pd\n",
    "from io import StringIO\n",
    "\n",
    "driver = webdriver.Firefox()"
   ]
  },
  {
   "cell_type": "code",
   "execution_count": 2,
   "id": "861c888a",
   "metadata": {},
   "outputs": [],
   "source": [
    "def wait_until_age_title_be_displayed():\n",
    "    age_title = driver.find_element(By.XPATH, \"//a[@class='age-datetime-with-tooltip']\")\n",
    "    while not age_title.is_displayed():\n",
    "        pass\n",
    "\n",
    "def wait_until_txn_fee_title_be_displayed():\n",
    "    txn_fee_title = driver.find_element(By.XPATH, \"//a[@class='switch-txn-fee-gas-price']\")\n",
    "    while not txn_fee_title.is_displayed():\n",
    "        pass\n",
    "\n",
    "def wait_until_titles_be_displayed():\n",
    "    wait_until_age_title_be_displayed()\n",
    "    wait_until_txn_fee_title_be_displayed()"
   ]
  },
  {
   "cell_type": "code",
   "execution_count": 3,
   "id": "0680efcd",
   "metadata": {},
   "outputs": [],
   "source": [
    "driver.get(\"https://etherscan.io/txs\")\n",
    "\n",
    "wait_until_titles_be_displayed()\n",
    "age_buttom = driver.find_element(By.CLASS_NAME, 'age-datetime-with-tooltip')\n",
    "age_buttom.click()"
   ]
  },
  {
   "cell_type": "code",
   "execution_count": 4,
   "id": "c84f4088",
   "metadata": {},
   "outputs": [],
   "source": [
    "table_body = driver.find_element(By.XPATH, \"//tbody[@class='align-middle text-nowrap']\")\n",
    "tabel_body_first_row = table_body.find_element(By.TAG_NAME, \"tr\")\n",
    "first_row_block = tabel_body_first_row.find_elements(By.TAG_NAME, \"td\")[3]\n",
    "block_buttom = first_row_block.find_element(By.TAG_NAME, \"a\")\n",
    "last_block_num = int(block_buttom.text)"
   ]
  },
  {
   "cell_type": "code",
   "execution_count": 5,
   "id": "107328f8",
   "metadata": {},
   "outputs": [],
   "source": [
    "from selenium.common.exceptions import NoSuchElementException\n",
    "\n",
    "def go_next_page():\n",
    "    try:\n",
    "        next_page_buttom = driver.find_element(By.XPATH, \"//a[@aria-label='Next']\")\n",
    "        next_page_buttom.click()\n",
    "        return True\n",
    "    except NoSuchElementException:\n",
    "        return False"
   ]
  },
  {
   "cell_type": "code",
   "execution_count": 6,
   "id": "7e651c68",
   "metadata": {},
   "outputs": [],
   "source": [
    "def get_transactions_table():\n",
    "    wait_until_titles_be_displayed()\n",
    "    transactions_table = pd.read_html(StringIO(driver.page_source))\n",
    "    \n",
    "    while go_next_page():\n",
    "        wait_until_titles_be_displayed()\n",
    "        transactions_table += pd.read_html(StringIO(driver.page_source))\n",
    "\n",
    "    transactions_table = pd.concat(transactions_table, ignore_index=True)\n",
    "    return transactions_table"
   ]
  },
  {
   "cell_type": "code",
   "execution_count": 7,
   "id": "8a7992c0",
   "metadata": {},
   "outputs": [],
   "source": [
    "def get_block(block_num):\n",
    "    driver.get(f\"https://etherscan.io/txs?block={block_num}\")\n",
    "    transactions_table = get_transactions_table()\n",
    "    return transactions_table"
   ]
  },
  {
   "cell_type": "code",
   "execution_count": 8,
   "id": "70632a42",
   "metadata": {},
   "outputs": [],
   "source": [
    "blocks = []\n",
    "for i in range(10):\n",
    "    blocks.append(get_block(last_block_num - i))\n",
    "driver.quit()"
   ]
  },
  {
   "cell_type": "code",
   "execution_count": 9,
   "id": "d6b7e0a9",
   "metadata": {},
   "outputs": [],
   "source": [
    "# from bs4 import BeautifulSoup\n",
    "\n",
    "# soup = BeautifulSoup(driver.page_source)\n",
    "# soup_table = soup.find('table')\n",
    "# transactions_table = pd.read_html(StringIO(str(soup_table)))"
   ]
  },
  {
   "cell_type": "code",
   "execution_count": 10,
   "id": "6051029f",
   "metadata": {},
   "outputs": [
    {
     "data": {
      "text/html": [
       "<div>\n",
       "<style scoped>\n",
       "    .dataframe tbody tr th:only-of-type {\n",
       "        vertical-align: middle;\n",
       "    }\n",
       "\n",
       "    .dataframe tbody tr th {\n",
       "        vertical-align: top;\n",
       "    }\n",
       "\n",
       "    .dataframe thead th {\n",
       "        text-align: right;\n",
       "    }\n",
       "</style>\n",
       "<table border=\"1\" class=\"dataframe\">\n",
       "  <thead>\n",
       "    <tr style=\"text-align: right;\">\n",
       "      <th></th>\n",
       "      <th>Unnamed: 0</th>\n",
       "      <th>Txn Hash</th>\n",
       "      <th>Method</th>\n",
       "      <th>Block</th>\n",
       "      <th>Date Time (UTC)</th>\n",
       "      <th>From</th>\n",
       "      <th>Unnamed: 6</th>\n",
       "      <th>To</th>\n",
       "      <th>Value</th>\n",
       "      <th>Txn Fee</th>\n",
       "    </tr>\n",
       "  </thead>\n",
       "  <tbody>\n",
       "    <tr>\n",
       "      <th>0</th>\n",
       "      <td>NaN</td>\n",
       "      <td>0x39404a43a913507ca4bc607595b97e94d2ac9c41d299...</td>\n",
       "      <td>Transfer</td>\n",
       "      <td>19392616</td>\n",
       "      <td>2024-03-08 19:44:23</td>\n",
       "      <td>Titan Builder</td>\n",
       "      <td>NaN</td>\n",
       "      <td>Lido: Execution Layer Rewards Vault</td>\n",
       "      <td>0.073463848 ETH</td>\n",
       "      <td>0.001387</td>\n",
       "    </tr>\n",
       "    <tr>\n",
       "      <th>1</th>\n",
       "      <td>NaN</td>\n",
       "      <td>0x6534c444c8eaa08f24bc3ef2c069a31ba637217507f5...</td>\n",
       "      <td>Withdraw</td>\n",
       "      <td>19392616</td>\n",
       "      <td>2024-03-08 19:44:23</td>\n",
       "      <td>0xd04e9f09...74B591796</td>\n",
       "      <td>NaN</td>\n",
       "      <td>Tornado.Cash: Router</td>\n",
       "      <td>0 ETH</td>\n",
       "      <td>0.026865</td>\n",
       "    </tr>\n",
       "    <tr>\n",
       "      <th>2</th>\n",
       "      <td>NaN</td>\n",
       "      <td>0x3e041addd3fe77f2fc5498ea7b28f3e9bcd3db460447...</td>\n",
       "      <td>Transfer</td>\n",
       "      <td>19392616</td>\n",
       "      <td>2024-03-08 19:44:23</td>\n",
       "      <td>Binance 18</td>\n",
       "      <td>NaN</td>\n",
       "      <td>Tether: USDT Stablecoin</td>\n",
       "      <td>0 ETH</td>\n",
       "      <td>0.004091</td>\n",
       "    </tr>\n",
       "    <tr>\n",
       "      <th>3</th>\n",
       "      <td>NaN</td>\n",
       "      <td>0x335f252b8fbb4bc3b865d6d9a51372ec7e077748a3f7...</td>\n",
       "      <td>0x415565b0</td>\n",
       "      <td>19392616</td>\n",
       "      <td>2024-03-08 19:44:23</td>\n",
       "      <td>0x26979e4A...a861D83bb</td>\n",
       "      <td>NaN</td>\n",
       "      <td>0x: Exchange Proxy</td>\n",
       "      <td>0 ETH</td>\n",
       "      <td>0.008936</td>\n",
       "    </tr>\n",
       "    <tr>\n",
       "      <th>4</th>\n",
       "      <td>NaN</td>\n",
       "      <td>0xb452719ae69b748099f0b4f02ff703622059c4aa42bf...</td>\n",
       "      <td>Transfer</td>\n",
       "      <td>19392616</td>\n",
       "      <td>2024-03-08 19:44:23</td>\n",
       "      <td>HitBTC: Deposit Funder 3</td>\n",
       "      <td>NaN</td>\n",
       "      <td>0x04dCa129...3C5b5Bd24</td>\n",
       "      <td>0.00469 ETH</td>\n",
       "      <td>0.001317</td>\n",
       "    </tr>\n",
       "    <tr>\n",
       "      <th>...</th>\n",
       "      <td>...</td>\n",
       "      <td>...</td>\n",
       "      <td>...</td>\n",
       "      <td>...</td>\n",
       "      <td>...</td>\n",
       "      <td>...</td>\n",
       "      <td>...</td>\n",
       "      <td>...</td>\n",
       "      <td>...</td>\n",
       "      <td>...</td>\n",
       "    </tr>\n",
       "    <tr>\n",
       "      <th>225</th>\n",
       "      <td>NaN</td>\n",
       "      <td>0xa8126aedabc8cb8d32b725c8a717cb984c16aba33835...</td>\n",
       "      <td>Transfer</td>\n",
       "      <td>19392616</td>\n",
       "      <td>2024-03-08 19:44:23</td>\n",
       "      <td>0x2f5668Ea...62941485a</td>\n",
       "      <td>NaN</td>\n",
       "      <td>0xEb8FB77B...8408c7B9a</td>\n",
       "      <td>0.093017432 ETH</td>\n",
       "      <td>0.002110</td>\n",
       "    </tr>\n",
       "    <tr>\n",
       "      <th>226</th>\n",
       "      <td>NaN</td>\n",
       "      <td>0xb194ea4a17572dac9f3cc9ee6ad9ebcf33266ba91adb...</td>\n",
       "      <td>Transfer</td>\n",
       "      <td>19392616</td>\n",
       "      <td>2024-03-08 19:44:23</td>\n",
       "      <td>Paribu 5</td>\n",
       "      <td>NaN</td>\n",
       "      <td>Floki: FLOKI Token</td>\n",
       "      <td>0 ETH</td>\n",
       "      <td>0.008712</td>\n",
       "    </tr>\n",
       "    <tr>\n",
       "      <th>227</th>\n",
       "      <td>NaN</td>\n",
       "      <td>0x2d653826b2178e0f2ae29cd4c1e72f976ea986cf0dd1...</td>\n",
       "      <td>0xe16dd1ef</td>\n",
       "      <td>19392616</td>\n",
       "      <td>2024-03-08 19:44:23</td>\n",
       "      <td>0xFf64E8E2...3C2bc1f4b</td>\n",
       "      <td>NaN</td>\n",
       "      <td>MEV Bot: 0xc6f...ae1</td>\n",
       "      <td>0 ETH</td>\n",
       "      <td>0.010867</td>\n",
       "    </tr>\n",
       "    <tr>\n",
       "      <th>228</th>\n",
       "      <td>NaN</td>\n",
       "      <td>0x24bf9c677b04e402832f66176eda00df512e30697310...</td>\n",
       "      <td>0x415565b0</td>\n",
       "      <td>19392616</td>\n",
       "      <td>2024-03-08 19:44:23</td>\n",
       "      <td>0x1156C10C...50aA19D37</td>\n",
       "      <td>NaN</td>\n",
       "      <td>0x: Exchange Proxy</td>\n",
       "      <td>0 ETH</td>\n",
       "      <td>0.042137</td>\n",
       "    </tr>\n",
       "    <tr>\n",
       "      <th>229</th>\n",
       "      <td>NaN</td>\n",
       "      <td>0x05fa9c4e360a598f61e5dfbb64548bba0d163edf77f2...</td>\n",
       "      <td>Approve</td>\n",
       "      <td>19392616</td>\n",
       "      <td>2024-03-08 19:44:23</td>\n",
       "      <td>0x1156C10C...50aA19D37</td>\n",
       "      <td>NaN</td>\n",
       "      <td>Inspect: INSP Token</td>\n",
       "      <td>0 ETH</td>\n",
       "      <td>0.002968</td>\n",
       "    </tr>\n",
       "  </tbody>\n",
       "</table>\n",
       "<p>230 rows × 10 columns</p>\n",
       "</div>"
      ],
      "text/plain": [
       "     Unnamed: 0                                           Txn Hash  \\\n",
       "0           NaN  0x39404a43a913507ca4bc607595b97e94d2ac9c41d299...   \n",
       "1           NaN  0x6534c444c8eaa08f24bc3ef2c069a31ba637217507f5...   \n",
       "2           NaN  0x3e041addd3fe77f2fc5498ea7b28f3e9bcd3db460447...   \n",
       "3           NaN  0x335f252b8fbb4bc3b865d6d9a51372ec7e077748a3f7...   \n",
       "4           NaN  0xb452719ae69b748099f0b4f02ff703622059c4aa42bf...   \n",
       "..          ...                                                ...   \n",
       "225         NaN  0xa8126aedabc8cb8d32b725c8a717cb984c16aba33835...   \n",
       "226         NaN  0xb194ea4a17572dac9f3cc9ee6ad9ebcf33266ba91adb...   \n",
       "227         NaN  0x2d653826b2178e0f2ae29cd4c1e72f976ea986cf0dd1...   \n",
       "228         NaN  0x24bf9c677b04e402832f66176eda00df512e30697310...   \n",
       "229         NaN  0x05fa9c4e360a598f61e5dfbb64548bba0d163edf77f2...   \n",
       "\n",
       "         Method     Block      Date Time (UTC)                      From  \\\n",
       "0      Transfer  19392616  2024-03-08 19:44:23             Titan Builder   \n",
       "1      Withdraw  19392616  2024-03-08 19:44:23    0xd04e9f09...74B591796   \n",
       "2      Transfer  19392616  2024-03-08 19:44:23                Binance 18   \n",
       "3    0x415565b0  19392616  2024-03-08 19:44:23    0x26979e4A...a861D83bb   \n",
       "4      Transfer  19392616  2024-03-08 19:44:23  HitBTC: Deposit Funder 3   \n",
       "..          ...       ...                  ...                       ...   \n",
       "225    Transfer  19392616  2024-03-08 19:44:23    0x2f5668Ea...62941485a   \n",
       "226    Transfer  19392616  2024-03-08 19:44:23                  Paribu 5   \n",
       "227  0xe16dd1ef  19392616  2024-03-08 19:44:23    0xFf64E8E2...3C2bc1f4b   \n",
       "228  0x415565b0  19392616  2024-03-08 19:44:23    0x1156C10C...50aA19D37   \n",
       "229     Approve  19392616  2024-03-08 19:44:23    0x1156C10C...50aA19D37   \n",
       "\n",
       "     Unnamed: 6                                   To            Value  \\\n",
       "0           NaN  Lido: Execution Layer Rewards Vault  0.073463848 ETH   \n",
       "1           NaN                 Tornado.Cash: Router            0 ETH   \n",
       "2           NaN              Tether: USDT Stablecoin            0 ETH   \n",
       "3           NaN                   0x: Exchange Proxy            0 ETH   \n",
       "4           NaN               0x04dCa129...3C5b5Bd24      0.00469 ETH   \n",
       "..          ...                                  ...              ...   \n",
       "225         NaN               0xEb8FB77B...8408c7B9a  0.093017432 ETH   \n",
       "226         NaN                   Floki: FLOKI Token            0 ETH   \n",
       "227         NaN                 MEV Bot: 0xc6f...ae1            0 ETH   \n",
       "228         NaN                   0x: Exchange Proxy            0 ETH   \n",
       "229         NaN                  Inspect: INSP Token            0 ETH   \n",
       "\n",
       "      Txn Fee  \n",
       "0    0.001387  \n",
       "1    0.026865  \n",
       "2    0.004091  \n",
       "3    0.008936  \n",
       "4    0.001317  \n",
       "..        ...  \n",
       "225  0.002110  \n",
       "226  0.008712  \n",
       "227  0.010867  \n",
       "228  0.042137  \n",
       "229  0.002968  \n",
       "\n",
       "[230 rows x 10 columns]"
      ]
     },
     "execution_count": 10,
     "metadata": {},
     "output_type": "execute_result"
    }
   ],
   "source": [
    "blocks[9]"
   ]
  },
  {
   "cell_type": "markdown",
   "id": "6a013b104d142cfc",
   "metadata": {
    "collapsed": false
   },
   "source": [
    "## Data Analysis\n",
    "\n",
    "Now that we have collected the transaction data from Etherscan, the next step is to perform conduct an initial analysis. This task will involve the following steps:\n",
    "\n",
    "1. **Load the Data**: Import the collected transaction data into a pandas DataFrame.\n",
    "\n",
    "2. **Data Cleaning**: Clean the data by converting data types, removing any irrelevant information, and handling **duplicate** values.\n",
    "\n",
    "3. **Statistical Analysis**: Calculate the mean and standard deviation of the population. Evaluate these statistics to understand the distribution of transaction values. The analysis and plotting will be on **Txn Fee** and **Value**.\n",
    "\n",
    "4. **Visualization**: This phase involves the creation of visual representations to aid in the analysis of transaction values. The visualizations include:\n",
    "    - A histogram for each data column, which provides a visual representation of the data distribution. The selection of bin size is crucial and should be based on the data's characteristics to ensure accurate representation. Provide an explanation on the bin size selection!\n",
    "    - A normal distribution plot fitted alongside the histogram to compare the empirical distribution of the data with the theoretical normal distribution.\n",
    "    - A box plot and a violin plot to identify outliers and provide a comprehensive view of the data's distribution.\n",
    "\n",
    "### Deliverables\n",
    "\n",
    "The project aims to deliver the following deliverables:\n",
    "\n",
    "- A refined pandas DataFrame containing the transaction data, which has undergone thorough cleaning and is ready for analysis.\n",
    "- A simple statistical analysis evaluating the population statistics, offering insights into the distribution of transaction values and fees.\n",
    "- A set of visualizations showcasing the distribution of transaction values for the population. These visualizations include histograms, normal distribution plots, box plots, and violin plots, each serving a specific purpose in the analysis.\n",
    "\n",
    "### Getting Started\n",
    "\n",
    "The project starts with the importing of transaction data into a pandas DataFrame, setting the stage for data manipulation and analysis. Subsequent steps involve the cleaning of the data to ensure its quality and reliability. Followed by the calculation of population statistics. Finally, a series of visualizations are created to visually analyze the distribution of transaction values and fees."
   ]
  },
  {
   "cell_type": "code",
   "execution_count": 11,
   "id": "f481b11a08d876b6",
   "metadata": {
    "ExecuteTime": {
     "end_time": "2024-02-25T14:02:12.152030482Z",
     "start_time": "2024-02-25T14:02:12.101846096Z"
    },
    "collapsed": false
   },
   "outputs": [],
   "source": [
    "transactions_table = pd.concat(blocks, ignore_index=True)\n",
    "transactions_table = transactions_table.rename(columns={'Unnamed: 6':'Is SELF'})\n",
    "transactions_table.drop(transactions_table.columns[0], axis=1, inplace=True)\n",
    "\n",
    "transactions_table = transactions_table.fillna(0)\n",
    "transactions_table = transactions_table.astype({'Is SELF': bool})\n",
    "\n",
    "transactions_table['Value'] = transactions_table['Value'].apply(lambda value: float(value.split()[0].replace(',', '')))\n",
    "transactions_table = transactions_table.rename(columns={'Value':'Value (ETH)'})"
   ]
  },
  {
   "cell_type": "markdown",
   "id": "4377c28f",
   "metadata": {},
   "source": [
    "didn't have any duplicated\n",
    "change alghorithm\n"
   ]
  },
  {
   "cell_type": "code",
   "execution_count": 12,
   "id": "61ce19d8",
   "metadata": {},
   "outputs": [
    {
     "name": "stdout",
     "output_type": "stream",
     "text": [
      "Value mean:     0.78048\n",
      "Value std:      7.44666\n",
      "Txn Fee mean:   0.00757\n",
      "Txn Fee std:    0.01633\n"
     ]
    }
   ],
   "source": [
    "value_mean = transactions_table['Value (ETH)'].mean()\n",
    "value_std = transactions_table['Value (ETH)'].std()\n",
    "\n",
    "print(f'Value mean:     {value_mean:.5f}')\n",
    "print(f'Value std:      {value_std:.5f}')\n",
    "\n",
    "txn_fee_mean = transactions_table['Txn Fee'].mean()\n",
    "txn_fee_std = transactions_table['Txn Fee'].std()\n",
    "\n",
    "print(f'Txn Fee mean:   {txn_fee_mean:.5f}')\n",
    "print(f'Txn Fee std:    {txn_fee_std:.5f}')"
   ]
  },
  {
   "cell_type": "code",
   "execution_count": 13,
   "id": "742ebe16",
   "metadata": {},
   "outputs": [
    {
     "data": {
      "image/png": "[encoded data removed]",
      "text/plain": [
       "<Figure size 640x480 with 2 Axes>"
      ]
     },
     "metadata": {},
     "output_type": "display_data"
    }
   ],
   "source": [
    "import numpy as np\n",
    "import matplotlib.pyplot as plt\n",
    "from scipy.stats import norm\n",
    "\n",
    "non_zero_values = transactions_table[transactions_table['Value (ETH)'] != 0]['Value (ETH)']\n",
    "log_values = np.log(non_zero_values)\n",
    "bins_values = np.histogram_bin_edges(log_values, bins='auto')\n",
    "x_values = np.linspace(log_values.min(), log_values.max())\n",
    "\n",
    "plt.subplot(211)\n",
    "plt.hist(log_values, bins=bins_values, density=True)\n",
    "plt.plot(x_values, norm.pdf(x_values, log_values.mean(), log_values.std()))\n",
    "plt.title('log Value')\n",
    "\n",
    "txn_fees = transactions_table['Txn Fee']\n",
    "log_txn_fees = np.log(txn_fees)\n",
    "log_txn_fees_shifted_to_positives = log_txn_fees - log_txn_fees.min()\n",
    "log_log_txn_fees = np.log(log_txn_fees_shifted_to_positives[log_txn_fees_shifted_to_positives != 0])\n",
    "bins_txn_fees = np.histogram_bin_edges(log_log_txn_fees, bins='auto')\n",
    "x_txn_fees = np.linspace(log_log_txn_fees.min(), log_log_txn_fees.max())\n",
    "\n",
    "plt.subplot(212)\n",
    "plt.hist(log_log_txn_fees, bins=bins_txn_fees, density=True)\n",
    "plt.plot(x_txn_fees, norm.pdf(x_txn_fees, log_log_txn_fees.mean(), log_log_txn_fees.std()))\n",
    "plt.title('log log Txn Fee')\n",
    "\n",
    "plt.show()"
   ]
  },
  {
   "cell_type": "code",
   "execution_count": 14,
   "id": "c79cba8c",
   "metadata": {},
   "outputs": [
    {
     "data": {
      "image/png": "[encoded data removed]",
      "text/plain": [
       "<Figure size 640x480 with 4 Axes>"
      ]
     },
     "metadata": {},
     "output_type": "display_data"
    }
   ],
   "source": [
    "plt.subplot(221)\n",
    "plt.boxplot(log_values)\n",
    "plt.title('log Value box plot')\n",
    "\n",
    "plt.subplot(222)\n",
    "plt.violinplot(log_values)\n",
    "plt.title('log Value violin plot')\n",
    "\n",
    "plt.subplot(223)\n",
    "plt.boxplot(log_log_txn_fees)\n",
    "plt.title('log log Txn Fee box plot')\n",
    "\n",
    "plt.subplot(224)\n",
    "plt.violinplot(log_log_txn_fees)\n",
    "plt.title('log log Txn Fee violin plot')\n",
    "\n",
    "plt.show()"
   ]
  },
  {
   "cell_type": "code",
   "execution_count": 15,
   "id": "9613c9ac",
   "metadata": {},
   "outputs": [],
   "source": [
    "def remove_outliers(data, whis=1.5):\n",
    "    data = np.array(data)\n",
    "    Q1 = np.quantile(data, 0.25)\n",
    "    Q3 = np.quantile(data, 0.75)\n",
    "    IQR = Q3 - Q1\n",
    "\n",
    "    filtered_data_index = np.where(np.logical_and(data > Q1 - whis*IQR, data < Q3 + whis*IQR))\n",
    "    return data[filtered_data_index]"
   ]
  },
  {
   "cell_type": "code",
   "execution_count": 16,
   "id": "c3c25d72",
   "metadata": {},
   "outputs": [
    {
     "data": {
      "image/png": "[encoded data removed]",
      "text/plain": [
       "<Figure size 640x480 with 2 Axes>"
      ]
     },
     "metadata": {},
     "output_type": "display_data"
    }
   ],
   "source": [
    "log_clean_values = remove_outliers(log_values)\n",
    "log_log_clean_txn_fees = remove_outliers(log_log_txn_fees)\n",
    "\n",
    "bins_clean_values = np.histogram_bin_edges(log_clean_values, bins='auto')\n",
    "x_clean_values = np.linspace(log_clean_values.min(), log_clean_values.max())\n",
    "\n",
    "bins_clean_txn_fees = np.histogram_bin_edges(log_log_clean_txn_fees, bins='auto')\n",
    "x_clean_txn_fees = np.linspace(log_log_clean_txn_fees.min(), log_log_clean_txn_fees.max())\n",
    "\n",
    "plt.subplot(211)\n",
    "plt.hist(log_clean_values, bins=bins_clean_values, density=True)\n",
    "plt.plot(x_clean_values, norm.pdf(x_clean_values, log_clean_values.mean(), log_clean_values.std()))\n",
    "plt.title('log Value')\n",
    "\n",
    "plt.subplot(212)\n",
    "plt.hist(log_log_clean_txn_fees, bins=bins_clean_txn_fees, density=True)\n",
    "plt.plot(x_clean_txn_fees, norm.pdf(x_clean_txn_fees, log_log_clean_txn_fees.mean(), log_log_clean_txn_fees.std()))\n",
    "plt.title('log log Txn Fee')\n",
    "\n",
    "plt.show()"
   ]
  },
  {
   "cell_type": "markdown",
   "id": "87030e5e0b4fe1e6",
   "metadata": {
    "collapsed": false
   },
   "source": [
    "## Data Sampling and Analysis\n",
    "\n",
    "In this section, we will delve into the process of data sampling and perform an initial analysis on the transaction data we have collected. Our objective is to understand the distribution of transaction values by sampling the data and comparing the sample statistics with the population statistics.\n",
    "\n",
    "### Steps\n",
    "\n",
    "1. **Load the Data**: Import the collected transaction data into a pandas DataFrame.\n",
    "\n",
    "2. **Data Cleaning**: Clean the data by handling missing values, converting data types, and removing any irrelevant information.\n",
    "\n",
    "3. **Simple Random Sampling (SRS)**: Create a sample from the dataset using a simple random sampling method. This involves randomly selecting a subset of the data without regard to any specific characteristics of the data.\n",
    "\n",
    "4. **Stratified Sampling**: Create another sample from the dataset using a stratified sampling method. This involves dividing the data into strata based on a specific characteristic (e.g., transaction value) and then randomly selecting samples from each stratum. Explain what you have stratified the data by and why you chose this column.\n",
    "\n",
    "5. **Statistical Analysis**: Calculate the mean and standard deviation of the samples and the population. Compare these statistics to understand the distribution of transaction values.\n",
    "\n",
    "6. **Visualization**: Plot the distribution of transaction values and fees for both the samples and the population to visually compare their distributions.\n",
    "\n",
    "### Considerations\n",
    "\n",
    "- **Sample Size**: The size of the sample should be large enough to represent the population accurately but not so large that it becomes impractical to analyze.\n",
    "- **Sampling Method**: Choose the appropriate sampling method based on the characteristics of the data and the research question.\n",
    "\n",
    "Explain the above considerations in your report."
   ]
  },
  {
   "cell_type": "code",
   "execution_count": 17,
   "id": "4f6becd41f9b2393",
   "metadata": {
    "ExecuteTime": {
     "end_time": "2024-02-27T19:36:26.333480965Z",
     "start_time": "2024-02-27T19:36:26.324023052Z"
    },
    "collapsed": false
   },
   "outputs": [
    {
     "name": "stderr",
     "output_type": "stream",
     "text": [
      "/tmp/ipykernel_20220/2063004878.py:5: FutureWarning: The default of observed=False is deprecated and will be changed to True in a future version of pandas. Pass observed=False to retain current behavior or observed=True to adopt the future default and silence this warning.\n",
      "  stratified_sample = transactions_table.groupby('group', group_keys=False).apply(lambda x: x.sample(frac=0.2))\n",
      "/tmp/ipykernel_20220/2063004878.py:5: DeprecationWarning: DataFrameGroupBy.apply operated on the grouping columns. This behavior is deprecated, and in a future version of pandas the grouping columns will be excluded from the operation. Either pass `include_groups=False` to exclude the groupings or explicitly select the grouping columns after groupby to silence this warning.\n",
      "  stratified_sample = transactions_table.groupby('group', group_keys=False).apply(lambda x: x.sample(frac=0.2))\n"
     ]
    }
   ],
   "source": [
    "random_sample = transactions_table.sample(frac=0.1)\n",
    "\n",
    "bins = np.histogram_bin_edges(transactions_table['Value (ETH)'], bins='auto')\n",
    "transactions_table['group'] = pd.cut(transactions_table['Value (ETH)'], bins=bins)\n",
    "stratified_sample = transactions_table.groupby('group', group_keys=False).apply(lambda x: x.sample(frac=0.2))"
   ]
  },
  {
   "cell_type": "code",
   "execution_count": 18,
   "id": "9caae710",
   "metadata": {},
   "outputs": [
    {
     "name": "stdout",
     "output_type": "stream",
     "text": [
      "Population Value mean:          0.78048\n",
      "Random Sample Value mean:       0.20929\n",
      "Stratified Sample Value mean:   0.25608\n",
      "\n",
      "\n",
      "Population Value std:           7.44666\n",
      "Random Sample Value std:        0.92897\n",
      "Stratified Sample Value std:    0.66244\n"
     ]
    }
   ],
   "source": [
    "value_mean = transactions_table['Value (ETH)'].mean()\n",
    "value_std = transactions_table['Value (ETH)'].std()\n",
    "\n",
    "random_value_mean = random_sample['Value (ETH)'].mean()\n",
    "random_value_std = random_sample['Value (ETH)'].std()\n",
    "\n",
    "stratified_value_mean = stratified_sample['Value (ETH)'].mean()\n",
    "stratified_value_std = stratified_sample['Value (ETH)'].std()\n",
    "\n",
    "print(f'Population Value mean:          {value_mean:.5f}')\n",
    "print(f'Random Sample Value mean:       {random_value_mean:.5f}')\n",
    "print(f'Stratified Sample Value mean:   {stratified_value_mean:.5f}')\n",
    "print('\\n')\n",
    "print(f'Population Value std:           {value_std:.5f}')\n",
    "print(f'Random Sample Value std:        {random_value_std:.5f}')\n",
    "print(f'Stratified Sample Value std:    {stratified_value_std:.5f}')"
   ]
  },
  {
   "cell_type": "code",
   "execution_count": 19,
   "id": "b2512371",
   "metadata": {},
   "outputs": [
    {
     "name": "stdout",
     "output_type": "stream",
     "text": [
      "Population Txn Fee mean:        0.00757\n",
      "Random Sample Txn Fee mean:     0.00822\n",
      "Stratified Sample Txn Fee mean: 0.00549\n",
      "\n",
      "\n",
      "Population Txn Fee std:         0.01633\n",
      "Random Sample Txn Fee std:      0.01604\n",
      "Stratified Sample Txn Fee std:  0.00610\n"
     ]
    }
   ],
   "source": [
    "txn_fee_mean = transactions_table['Txn Fee'].mean()\n",
    "txn_fee_std = transactions_table['Txn Fee'].std()\n",
    "\n",
    "random_txn_fee_mean = random_sample['Txn Fee'].mean()\n",
    "random_txn_fee_std = random_sample['Txn Fee'].std()\n",
    "\n",
    "stratified_txn_fee_mean = stratified_sample['Txn Fee'].mean()\n",
    "stratified_txn_fee_std = stratified_sample['Txn Fee'].std()\n",
    "\n",
    "print(f'Population Txn Fee mean:        {txn_fee_mean:.5f}')\n",
    "print(f'Random Sample Txn Fee mean:     {random_txn_fee_mean:.5f}')\n",
    "print(f'Stratified Sample Txn Fee mean: {stratified_txn_fee_mean:.5f}')\n",
    "print('\\n')\n",
    "print(f'Population Txn Fee std:         {txn_fee_std:.5f}')\n",
    "print(f'Random Sample Txn Fee std:      {random_txn_fee_std:.5f}')\n",
    "print(f'Stratified Sample Txn Fee std:  {stratified_txn_fee_std:.5f}')"
   ]
  },
  {
   "cell_type": "code",
   "execution_count": 20,
   "id": "438ca8fd",
   "metadata": {},
   "outputs": [
    {
     "data": {
      "image/png": "[encoded data removed]",
      "text/plain": [
       "<Figure size 640x480 with 1 Axes>"
      ]
     },
     "metadata": {},
     "output_type": "display_data"
    }
   ],
   "source": [
    "non_zero_random_values = random_sample[random_sample['Value (ETH)'] != 0]['Value (ETH)']\n",
    "log_random_values = np.log(non_zero_random_values)\n",
    "\n",
    "non_zero_stratified_values = stratified_sample[stratified_sample['Value (ETH)'] != 0]['Value (ETH)']\n",
    "log_stratified_values = np.log(non_zero_stratified_values)\n",
    "\n",
    "plt.hist([log_values, log_random_values, log_stratified_values], bins=bins_values, density=True, label=['Population', 'Random Sample', 'Stratified Sample'])\n",
    "\n",
    "plt.legend()\n",
    "plt.show()"
   ]
  },
  {
   "cell_type": "code",
   "execution_count": 21,
   "id": "c14faf00",
   "metadata": {},
   "outputs": [
    {
     "data": {
      "image/png": "[encoded data removed]",
      "text/plain": [
       "<Figure size 640x480 with 1 Axes>"
      ]
     },
     "metadata": {},
     "output_type": "display_data"
    }
   ],
   "source": [
    "non_zero_random_txn_fees = random_sample[random_sample['Txn Fee'] != 0]['Txn Fee']\n",
    "log_random_txn_fees = np.log(non_zero_random_txn_fees)\n",
    "log_random_txn_fees_shifted_to_positives = log_random_txn_fees - log_random_txn_fees.min()\n",
    "log_log_random_txn_fees = np.log(log_random_txn_fees_shifted_to_positives[log_random_txn_fees_shifted_to_positives != 0])\n",
    "\n",
    "non_zero_stratified_txn_fees = stratified_sample[stratified_sample['Txn Fee'] != 0]['Txn Fee']\n",
    "log_stratified_txn_fees = np.log(non_zero_stratified_txn_fees)\n",
    "log_stratified_txn_fees_shifted_to_positives = log_stratified_txn_fees - log_stratified_txn_fees.min()\n",
    "log_log_stratified_txn_fees = np.log(log_stratified_txn_fees_shifted_to_positives[log_stratified_txn_fees_shifted_to_positives != 0])\n",
    "\n",
    "\n",
    "plt.hist([log_log_txn_fees, log_log_random_txn_fees, log_log_stratified_txn_fees], bins=bins_txn_fees, density=True, label=['Population', 'Random Sample', 'Stratified Sample'])\n",
    "\n",
    "plt.legend()\n",
    "plt.show()"
   ]
  }
 ],
 "metadata": {
  "kernelspec": {
   "display_name": "Python 3 (ipykernel)",
   "language": "python",
   "name": "python3"
  },
  "language_info": {
   "codemirror_mode": {
    "name": "ipython",
    "version": 3
   },
   "file_extension": ".py",
   "mimetype": "text/x-python",
   "name": "python",
   "nbconvert_exporter": "python",
   "pygments_lexer": "ipython3",
   "version": "3.12.2"
  }
 },
 "nbformat": 4,
 "nbformat_minor": 5
}
